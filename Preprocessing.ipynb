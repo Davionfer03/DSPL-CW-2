{
  "nbformat": 4,
  "nbformat_minor": 0,
  "metadata": {
    "colab": {
      "provenance": [],
      "mount_file_id": "1Ue9qx9hp8Cak-CM34aYASHIVYSzMpjGU",
      "authorship_tag": "ABX9TyOo8iDuV66AFecI00bMcW0d",
      "include_colab_link": true
    },
    "kernelspec": {
      "name": "python3",
      "display_name": "Python 3"
    },
    "language_info": {
      "name": "python"
    }
  },
  "cells": [
    {
      "cell_type": "markdown",
      "metadata": {
        "id": "view-in-github",
        "colab_type": "text"
      },
      "source": [
        "<a href=\"https://colab.research.google.com/github/Davionfer03/DSPL-CW-2/blob/main/Preprocessing.ipynb\" target=\"_parent\"><img src=\"https://colab.research.google.com/assets/colab-badge.svg\" alt=\"Open In Colab\"/></a>"
      ]
    },
    {
      "cell_type": "code",
      "execution_count": 2,
      "metadata": {
        "id": "XSABU3ar7UGY"
      },
      "outputs": [],
      "source": [
        "#import necessary libraries\n",
        "import pandas as pd"
      ]
    },
    {
      "cell_type": "code",
      "source": [
        "#Read csv file\n",
        "df= pd.read_csv(\"/content/drive/MyDrive/Colab Notebooks/DSPL Ind CW/external-debt_lka.csv\")"
      ],
      "metadata": {
        "id": "C3WT5GYS7rDV"
      },
      "execution_count": 4,
      "outputs": []
    },
    {
      "cell_type": "code",
      "source": [
        "# Remove the first row (which contains metadata, not actual data)\n",
        "df = df.iloc[1:].reset_index(drop=True)"
      ],
      "metadata": {
        "id": "Ckr0AeLw9AqP"
      },
      "execution_count": 5,
      "outputs": []
    },
    {
      "cell_type": "code",
      "source": [
        "# Convert 'Year' to integer and 'Value' to float\n",
        "df['Year'] = pd.to_numeric(df['Year'], errors='coerce')\n",
        "df['Value'] = pd.to_numeric(df['Value'], errors='coerce')"
      ],
      "metadata": {
        "id": "wwpVNmvW9CKe"
      },
      "execution_count": 6,
      "outputs": []
    },
    {
      "cell_type": "code",
      "source": [
        "# Check and drop rows with missing values\n",
        "df = df.dropna(subset=['Year', 'Value'])"
      ],
      "metadata": {
        "id": "KkFnlJQ49ECG"
      },
      "execution_count": 7,
      "outputs": []
    },
    {
      "cell_type": "code",
      "source": [
        "# Reset index again after cleaning\n",
        "df = df.reset_index(drop=True)\n",
        "\n",
        "# Display cleaned data info\n",
        "print(df.info())\n",
        "print(df.head())"
      ],
      "metadata": {
        "colab": {
          "base_uri": "https://localhost:8080/"
        },
        "id": "oEqkXHIA9FyU",
        "outputId": "e4b646ca-561b-4f1c-d08b-42f38167c597"
      },
      "execution_count": 8,
      "outputs": [
        {
          "output_type": "stream",
          "name": "stdout",
          "text": [
            "<class 'pandas.core.frame.DataFrame'>\n",
            "RangeIndex: 2925 entries, 0 to 2924\n",
            "Data columns (total 6 columns):\n",
            " #   Column          Non-Null Count  Dtype  \n",
            "---  ------          --------------  -----  \n",
            " 0   Country Name    2925 non-null   object \n",
            " 1   Country ISO3    2925 non-null   object \n",
            " 2   Year            2925 non-null   int64  \n",
            " 3   Indicator Name  2925 non-null   object \n",
            " 4   Indicator Code  2925 non-null   object \n",
            " 5   Value           2925 non-null   float64\n",
            "dtypes: float64(1), int64(1), object(4)\n",
            "memory usage: 137.2+ KB\n",
            "None\n",
            "  Country Name Country ISO3  Year  \\\n",
            "0    Sri Lanka          LKA  2023   \n",
            "1    Sri Lanka          LKA  2022   \n",
            "2    Sri Lanka          LKA  2021   \n",
            "3    Sri Lanka          LKA  2020   \n",
            "4    Sri Lanka          LKA  2019   \n",
            "\n",
            "                                      Indicator Name  Indicator Code  \\\n",
            "0  Imports of goods, services and primary income ...  BM.GSR.TOTL.CD   \n",
            "1  Imports of goods, services and primary income ...  BM.GSR.TOTL.CD   \n",
            "2  Imports of goods, services and primary income ...  BM.GSR.TOTL.CD   \n",
            "3  Imports of goods, services and primary income ...  BM.GSR.TOTL.CD   \n",
            "4  Imports of goods, services and primary income ...  BM.GSR.TOTL.CD   \n",
            "\n",
            "          Value  \n",
            "0  2.185014e+10  \n",
            "1  2.138009e+10  \n",
            "2  2.360127e+10  \n",
            "3  2.067499e+10  \n",
            "4  2.727543e+10  \n"
          ]
        }
      ]
    },
    {
      "cell_type": "code",
      "source": [
        "# Save the Preprocessed data to a new CSV file\n",
        "df.to_csv(\"preprocessed_dataset.csv\", index=False)"
      ],
      "metadata": {
        "id": "_DPBwNVy9I9v"
      },
      "execution_count": 11,
      "outputs": []
    },
    {
      "cell_type": "code",
      "source": [],
      "metadata": {
        "id": "yx7Bodgl-J79"
      },
      "execution_count": null,
      "outputs": []
    }
  ]
}